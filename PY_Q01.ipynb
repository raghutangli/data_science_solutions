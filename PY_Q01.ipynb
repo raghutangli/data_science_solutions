{
  "nbformat": 4,
  "nbformat_minor": 0,
  "metadata": {
    "colab": {
      "provenance": []
    },
    "kernelspec": {
      "name": "python3",
      "display_name": "Python 3"
    },
    "language_info": {
      "name": "python"
    }
  },
  "cells": [
    {
      "cell_type": "code",
      "source": [],
      "metadata": {
        "id": "2bM0Ghs0yZ_r"
      },
      "execution_count": null,
      "outputs": []
    },
    {
      "cell_type": "markdown",
      "source": [
        "Write a program that takes a string as input, and counts the frequency of each word in the string, there might be repeated characters in the string. Your task is to find the highest frequency and return the length of the highest-frequency word.\n",
        "\n",
        "Note - You have to write at least 2 additional test cases in which your program will run successfully and provide an explanation for the same.\n",
        "\n",
        "Example input - string = “write write write all the number from from from 1 to 100”\n",
        "\n",
        "Example output - 5\n",
        "\n",
        "Explanation - From the given string we can note that the most frequent words are “write” and “from” and the maximum value of both the values is “write” and its corresponding length is 5\n"
      ],
      "metadata": {
        "id": "DhZ6a7sUyaRy"
      }
    },
    {
      "cell_type": "code",
      "source": [
        "def func(s):\n",
        "    word_frequency = {}\n",
        "    words = s.split()\n",
        "\n",
        "    #find the frequency of words,also we can use Counter class to do this.\n",
        "\n",
        "    for word in words:\n",
        "        if word in word_frequency:\n",
        "            word_frequency[word] += 1\n",
        "        else:\n",
        "            word_frequency[word] = 1\n",
        "\n",
        "    max_frequency = max(word_frequency.values())\n",
        "\n",
        "    for word, frequency in word_frequency.items():\n",
        "        if frequency == max_frequency:\n",
        "            return len(word)\n",
        "\n",
        "s = \"write write write all the number from from from 1 to 100\"\n",
        "print(f\"Length of the highest-frequency word: {func(s)}\")"
      ],
      "metadata": {
        "colab": {
          "base_uri": "https://localhost:8080/"
        },
        "id": "NNJiIWs1wJN1",
        "outputId": "dbebe9e4-705d-4b19-e1c2-650855ee0f9b"
      },
      "execution_count": 43,
      "outputs": [
        {
          "output_type": "stream",
          "name": "stdout",
          "text": [
            "Length of the highest-frequency word: 5\n"
          ]
        }
      ]
    },
    {
      "cell_type": "code",
      "source": [],
      "metadata": {
        "id": "gMrD99B-s9cU"
      },
      "execution_count": null,
      "outputs": []
    }
  ]
}