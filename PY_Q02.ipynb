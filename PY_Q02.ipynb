{
  "nbformat": 4,
  "nbformat_minor": 0,
  "metadata": {
    "colab": {
      "provenance": []
    },
    "kernelspec": {
      "name": "python3",
      "display_name": "Python 3"
    },
    "language_info": {
      "name": "python"
    }
  },
  "cells": [
    {
      "cell_type": "code",
      "source": [],
      "metadata": {
        "id": "2bM0Ghs0yZ_r"
      },
      "execution_count": null,
      "outputs": []
    },
    {
      "cell_type": "markdown",
      "source": [
        "Consider a string to be valid if all characters of the string appear the same number of times. It is also valid if he can remove just one character at the index in the string, and the remaining characters will occur the same\n",
        "number of times.Given a string, determine if it is valid. If so, return YES , otherwise return NO .\n",
        "\n",
        "Note - You have to write at least 2 additional test cases in which your program will run successfully and provide an explanation for the same.\n",
        "\n",
        "Example input 1 - s = “abc”. This is a valid string because frequencies are { “a”: 1, “b”: 1, “c”: 1 }\n",
        "\n",
        "Example output 1- YES\n",
        "\n",
        "Example input 2 - s “abcc”. This string is not valid as we can remove only 1 occurrence of “c”. That leaves character frequencies of\n",
        "\n",
        "{ “a”: 1, “b”: 1 , “c”: 2 }\n",
        "\n",
        "Example output 2 - NO"
      ],
      "metadata": {
        "id": "H2OS4ZjF2l-y"
      }
    },
    {
      "cell_type": "code",
      "source": [
        "def valid_string(s):\n",
        "    char_frequency = {}  # Initialize an empty dictionary to store character frequencies\n",
        "\n",
        "    # Count the frequency of each character in the string\n",
        "    for char in s:\n",
        "        if char in char_frequency:\n",
        "            char_frequency[char] += 1\n",
        "        else:\n",
        "            char_frequency[char] = 1\n",
        "\n",
        "    # Check if all characters have the same frequency\n",
        "    frequencies = list(char_frequency.values())  # Get a list of all frequencies\n",
        "    if all(freq == frequencies[0] for freq in frequencies): #if freq of first character == freq of the rest\n",
        "        return \"YES\"  # Valid string: all characters have the same frequency\n",
        "\n",
        "    # Check if removing one character makes the remaining characters have the same frequency\n",
        "    for char in char_frequency:\n",
        "        char_frequency[s[0]] -= 1  # Decrease the frequency of the current character by 1\n",
        "        remaining_frequencies = list(char_frequency.values())  # Get a list of remaining frequencies\n",
        "\n",
        "        if all(freq == remaining_frequencies[0] for freq in remaining_frequencies) and len(set(remaining_frequencies)) == 1:\n",
        "            return \"YES\"  # Valid string after removing one character\n",
        "\n",
        "        char_frequency[char] += 1  # Restore the frequency of the current character\n",
        "\n",
        "    return \"NO\"  # Invalid string: unable to make all characters have the same frequency\n",
        "\n",
        "\n",
        "\n",
        "# Example test cases\n",
        "inputs = [\n",
        "    \"abc\",\n",
        "    \"abcc\"\n",
        "]\n",
        "\n",
        "for s in inputs:\n",
        "    print(valid_string(s))\n",
        "\n",
        "\n",
        "\n",
        "# Additional test cases\n",
        "inputs = [\n",
        "    \"aabbcc\",\n",
        "    \"aabbccd\",\n",
        "    \"aabbbcc\",\n",
        "    \"aabbccdd\",\n",
        "    \"abcd\",\n",
        "    \"aabbccdd\"\n",
        "]\n",
        "for s in inputs:\n",
        "    print(valid_string(s))"
      ],
      "metadata": {
        "colab": {
          "base_uri": "https://localhost:8080/"
        },
        "id": "Rq3Ec2cE2mdJ",
        "outputId": "1c67d717-acb2-434a-bdd8-6acb8d3e1e79"
      },
      "execution_count": 44,
      "outputs": [
        {
          "output_type": "stream",
          "name": "stdout",
          "text": [
            "YES\n",
            "NO\n",
            "YES\n",
            "NO\n",
            "NO\n",
            "YES\n",
            "YES\n",
            "YES\n"
          ]
        }
      ]
    },
    {
      "cell_type": "code",
      "source": [],
      "metadata": {
        "id": "60mYgLf62nVx"
      },
      "execution_count": null,
      "outputs": []
    }
  ]
}