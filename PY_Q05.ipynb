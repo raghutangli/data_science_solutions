{
  "nbformat": 4,
  "nbformat_minor": 0,
  "metadata": {
    "colab": {
      "provenance": []
    },
    "kernelspec": {
      "name": "python3",
      "display_name": "Python 3"
    },
    "language_info": {
      "name": "python"
    }
  },
  "cells": [
    {
      "cell_type": "markdown",
      "source": [
        "Question 5 -\n",
        "\n",
        "Write a program to download the data from the given API link and then extract the following data with proper formatting\n",
        "\n",
        "Link - http://api.tvmaze.com/singlesearch/shows?q=westworld&embed=episodes\n",
        "\n",
        "\n",
        "Excepted Output Data Attributes -\n",
        "\n",
        "\n",
        "id - int\n",
        "\n",
        "url - string\n",
        "\n",
        "name - string\n",
        "\n",
        "season - int\n",
        "\n",
        "number - int\n",
        "\n",
        "type - string\n",
        "\n",
        "airdate - date format\n",
        "\n",
        "airtime - 12-hour time format\n",
        "\n",
        "runtime - float\n",
        "\n",
        "average rating - float\n",
        "\n",
        "summary - string without html tags\n",
        "\n",
        "medium image link - string\n",
        "\n",
        "Original image link - string\n",
        "\n"
      ],
      "metadata": {
        "id": "qhL7v-j4gahQ"
      }
    },
    {
      "cell_type": "code",
      "source": [
        "import requests\n",
        "import pandas as pd\n",
        "import json\n",
        "\n",
        "data_types = {\n",
        "'id' : int\n",
        ",'url' : str\n",
        ",'name' : str\n",
        ",'season' : int\n",
        ",'number' : int\n",
        ",'type' : str\n",
        ",'runtime' : float\n",
        ",'rating' : float\n",
        ",'summary' : str\n",
        ",'medium_image_link' : str\n",
        ",'original_image_link' : str\n",
        "}\n",
        "\n",
        "# API link to fetch data\n",
        "url = \"http://api.tvmaze.com/singlesearch/shows?q=westworld&embed=episodes\"\n",
        "\n",
        "# sending GET request and storing the response\n",
        "response = requests.get(url)\n",
        "\n",
        "# extracting JSON data from the response\n",
        "data = response.json()\n",
        "\n",
        "# Accessing the 'episodes' key from the JSON data\n",
        "episodes = data['_embedded']['episodes']\n",
        "\n",
        "data_list = []\n",
        "\n",
        "# Looping through each episode and extracting the necessary data attributes\n",
        "for episode in episodes:\n",
        "\n",
        "    row = {\n",
        "        'id' : episode['id']\n",
        "        ,'url' : episode['url']\n",
        "        ,'name' : episode['name']\n",
        "        ,'season' : episode['season']\n",
        "        ,'number' : episode['number']\n",
        "        ,'type' : episode['type']\n",
        "        ,'airdate' : episode['airdate']\n",
        "        ,'airtime' : episode['airtime']\n",
        "        ,'runtime' : episode['runtime']\n",
        "        ,'rating' : episode['rating']['average']\n",
        "        ,'summary' : episode['summary'].replace('', '').replace('<p>', '').replace('</p>', '')\n",
        "        ,'medium_image_link' : episode['image']['medium']\n",
        "        ,'original_image_link' : episode['image']['original']\n",
        "    }\n",
        "\n",
        "    data_list.append(row)\n",
        "\n",
        "    # Formatting the output\n",
        "    # output = f\"ID: {row['id']}\\n\"\n",
        "    # print(output)\n",
        "    # printing the output\n",
        "\n",
        "df = pd.DataFrame(data_list)\n",
        "df['airtime'] = pd.to_datetime(df['airtime'], format='%H:%M').dt.strftime('%I:%M %p')\n",
        "df = df.astype(data_types)\n",
        "df.to_excel('./test.xlsx', index=False)\n",
        "\n",
        "# print(df['airtime'].head(10))\n",
        "print(df.info())"
      ],
      "metadata": {
        "colab": {
          "base_uri": "https://localhost:8080/"
        },
        "id": "4bsA2wRWhXwD",
        "outputId": "21ce18e4-e289-4eb9-fb9f-4a86429780b1"
      },
      "execution_count": 2,
      "outputs": [
        {
          "output_type": "stream",
          "name": "stdout",
          "text": [
            "<class 'pandas.core.frame.DataFrame'>\n",
            "RangeIndex: 36 entries, 0 to 35\n",
            "Data columns (total 13 columns):\n",
            " #   Column               Non-Null Count  Dtype  \n",
            "---  ------               --------------  -----  \n",
            " 0   id                   36 non-null     int64  \n",
            " 1   url                  36 non-null     object \n",
            " 2   name                 36 non-null     object \n",
            " 3   season               36 non-null     int64  \n",
            " 4   number               36 non-null     int64  \n",
            " 5   type                 36 non-null     object \n",
            " 6   airdate              36 non-null     object \n",
            " 7   airtime              36 non-null     object \n",
            " 8   runtime              36 non-null     float64\n",
            " 9   rating               36 non-null     float64\n",
            " 10  summary              36 non-null     object \n",
            " 11  medium_image_link    36 non-null     object \n",
            " 12  original_image_link  36 non-null     object \n",
            "dtypes: float64(2), int64(3), object(8)\n",
            "memory usage: 3.8+ KB\n",
            "None\n"
          ]
        }
      ]
    },
    {
      "cell_type": "code",
      "source": [],
      "metadata": {
        "id": "3C4Ba7jHkUFg"
      },
      "execution_count": null,
      "outputs": []
    }
  ]
}