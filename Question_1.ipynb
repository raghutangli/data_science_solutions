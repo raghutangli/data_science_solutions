{
  "nbformat": 4,
  "nbformat_minor": 0,
  "metadata": {
    "colab": {
      "provenance": []
    },
    "kernelspec": {
      "name": "python3",
      "display_name": "Python 3"
    },
    "language_info": {
      "name": "python"
    }
  },
  "cells": [
    {
      "cell_type": "code",
      "source": [
        "def func(s):\n",
        "    word_frequency = {}\n",
        "    words = s.split()\n",
        "\n",
        "    #find the frequency of words,also we can use Counter class to do this.\n",
        "\n",
        "    for word in words:\n",
        "        if word in word_frequency:\n",
        "            word_frequency[word] += 1\n",
        "        else:\n",
        "            word_frequency[word] = 1\n",
        "\n",
        "    max_frequency = max(word_frequency.values())\n",
        "\n",
        "    for word, frequency in word_frequency.items():\n",
        "        if frequency == max_frequency:\n",
        "            return len(word)\n",
        "\n",
        "s = \"write write write all the number from from from 1 to 100\"\n",
        "print(f\"Length of the highest-frequency word: {func(s)}\")"
      ],
      "metadata": {
        "colab": {
          "base_uri": "https://localhost:8080/"
        },
        "id": "NNJiIWs1wJN1",
        "outputId": "dbebe9e4-705d-4b19-e1c2-650855ee0f9b"
      },
      "execution_count": 43,
      "outputs": [
        {
          "output_type": "stream",
          "name": "stdout",
          "text": [
            "Length of the highest-frequency word: 5\n"
          ]
        }
      ]
    },
    {
      "cell_type": "code",
      "source": [],
      "metadata": {
        "id": "gMrD99B-s9cU"
      },
      "execution_count": null,
      "outputs": []
    }
  ]
}